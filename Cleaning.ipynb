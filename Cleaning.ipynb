{
 "cells": [
  {
   "cell_type": "code",
   "execution_count": 1,
   "metadata": {},
   "outputs": [
    {
     "name": "stderr",
     "output_type": "stream",
     "text": [
      "/apps/apps1/ML/apps/anaconda5/lib/python3.6/site-packages/IPython/nbformat.py:13: ShimWarning: The `IPython.nbformat` package has been deprecated since IPython 4.0. You should import from nbformat instead.\n",
      "  \"You should import from nbformat instead.\", ShimWarning)\n",
      "/apps/apps1/ML/apps/anaconda5/lib/python3.6/site-packages/nbformat/current.py:19: UserWarning: nbformat.current is deprecated.\n",
      "\n",
      "- use nbformat for read/write/validate public API\n",
      "- use nbformat.vX directly to composing notebooks of a particular version\n",
      "\n",
      "  \"\"\")\n"
     ]
    }
   ],
   "source": [
    "import sys\n",
    "import io\n",
    "from IPython.nbformat import current\n",
    "\n",
    "\n",
    "def remove_outputs(nb):\n",
    "          for ws in nb.worksheets:\n",
    "              for cell in ws.cells:\n",
    "                  if cell.cell_type == 'code':\n",
    "                      cell.outputs = []\n",
    "\n",
    "\n",
    "if __name__ == '__main__':\n",
    "    fname = 'DomainAdvancedWordEmbedding.ipynb'\n",
    "    with io.open(fname, 'r') as f:\n",
    "        nb = current.read(f, 'json')\n",
    "        remove_outputs(nb)\n",
    "        clean_content=current.writes(nb, 'json')\n",
    "    f.close()\n",
    "    with open('Domain_Advanced_Word_Embedding.ipynb', 'w') as f:\n",
    "        f.write(clean_content)\n",
    "    f.close()\n",
    "                \n"
   ]
  },
  {
   "cell_type": "code",
   "execution_count": null,
   "metadata": {
    "collapsed": true
   },
   "outputs": [],
   "source": []
  }
 ],
 "metadata": {
  "kernelspec": {
   "display_name": "Python 3",
   "language": "python",
   "name": "python3"
  },
  "language_info": {
   "codemirror_mode": {
    "name": "ipython",
    "version": 3
   },
   "file_extension": ".py",
   "mimetype": "text/x-python",
   "name": "python",
   "nbconvert_exporter": "python",
   "pygments_lexer": "ipython3",
   "version": "3.6.3"
  }
 },
 "nbformat": 4,
 "nbformat_minor": 2
}
