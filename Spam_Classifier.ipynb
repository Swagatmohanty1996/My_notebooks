{
 "cells": [
  {
   "cell_type": "code",
   "execution_count": 1,
   "metadata": {
    "collapsed": true
   },
   "outputs": [],
   "source": [
    "import numpy as np\n",
    "import pandas as pd\n",
    "import os\n",
    "import sys"
   ]
  },
  {
   "cell_type": "code",
   "execution_count": 2,
   "metadata": {
    "collapsed": true
   },
   "outputs": [],
   "source": [
    "HAM='ham'\n",
    "SPAM= 'spam'\n",
    "NEWLINE='\\n'\n",
    "\n",
    "sources = [('enron3/ham/', HAM),('enron3/spam/', SPAM)]\n",
    "SKIP_FILES ={'cmds'}\n"
   ]
  },
  {
   "cell_type": "code",
   "execution_count": 3,
   "metadata": {
    "collapsed": true
   },
   "outputs": [],
   "source": [
    "def read_files(path):\n",
    "    '''\n",
    "    Read all files from path which is not in SKIP_FILES.\n",
    "    Returns only the message body\n",
    "    '''\n",
    "    for root, dir_names, file_names in os.walk(path):\n",
    "        for path in dir_names:\n",
    "            read_files(os.path.join(root, path))\n",
    "        for file_name in file_names:\n",
    "            if file_name not in SKIP_FILES:\n",
    "                file_path = os.path.join(root, file_name)\n",
    "                if os.path.isfile(file_path):\n",
    "                    past_header, lines = False, []\n",
    "                    f = open(file_path, encoding='latin-1')\n",
    "                    for line in f:\n",
    "                        lines.append(line)\n",
    "                    f.close()\n",
    "                    content = NEWLINE.join(lines)\n",
    "                    yield file_path, content"
   ]
  },
  {
   "cell_type": "code",
   "execution_count": null,
   "metadata": {
    "collapsed": true
   },
   "outputs": [],
   "source": []
  },
  {
   "cell_type": "code",
   "execution_count": 4,
   "metadata": {
    "collapsed": true
   },
   "outputs": [],
   "source": [
    "def build_data_frame(l, path, classification):\n",
    "    rows = []\n",
    "    index = []\n",
    "    \n",
    "    for i, (file_name, text) in enumerate(read_files(path)):\n",
    "        rows.append({'text': text, 'class': classification})\n",
    "        index.append(file_name)\n",
    "        \n",
    "    data_frame = pd.DataFrame(rows, index=index)\n",
    "    return data_frame, len(rows)\n",
    "\n",
    "def load_data():\n",
    "    data = pd.DataFrame({'text': [], 'class': []})\n",
    "    l = 0\n",
    "    \n",
    "    for path, classification in sources:\n",
    "        data_frame, nrows = build_data_frame(l, path, classification)\n",
    "        data = data.append(data_frame)\n",
    "        l += nrows\n",
    "    data = data.reindex(np.random.permutation(data.index))\n",
    "    \n",
    "    return data"
   ]
  },
  {
   "cell_type": "code",
   "execution_count": 5,
   "metadata": {},
   "outputs": [
    {
     "name": "stderr",
     "output_type": "stream",
     "text": [
      "/export/home/a625533/.local/lib/python3.6/site-packages/pandas/core/frame.py:6692: FutureWarning: Sorting because non-concatenation axis is not aligned. A future version\n",
      "of pandas will change to not sort by default.\n",
      "\n",
      "To accept the future behavior, pass 'sort=False'.\n",
      "\n",
      "To retain the current behavior and silence the warning, pass 'sort=True'.\n",
      "\n",
      "  sort=sort)\n"
     ]
    }
   ],
   "source": [
    "data=load_data()"
   ]
  },
  {
   "cell_type": "code",
   "execution_count": 6,
   "metadata": {},
   "outputs": [
    {
     "data": {
      "text/plain": [
       "(5512, 2)"
      ]
     },
     "execution_count": 6,
     "metadata": {},
     "output_type": "execute_result"
    }
   ],
   "source": [
    "data.shape"
   ]
  },
  {
   "cell_type": "code",
   "execution_count": 7,
   "metadata": {
    "scrolled": true
   },
   "outputs": [
    {
     "data": {
      "text/html": [
       "<div>\n",
       "<style scoped>\n",
       "    .dataframe tbody tr th:only-of-type {\n",
       "        vertical-align: middle;\n",
       "    }\n",
       "\n",
       "    .dataframe tbody tr th {\n",
       "        vertical-align: top;\n",
       "    }\n",
       "\n",
       "    .dataframe thead th {\n",
       "        text-align: right;\n",
       "    }\n",
       "</style>\n",
       "<table border=\"1\" class=\"dataframe\">\n",
       "  <thead>\n",
       "    <tr style=\"text-align: right;\">\n",
       "      <th></th>\n",
       "      <th>class</th>\n",
       "      <th>text</th>\n",
       "    </tr>\n",
       "  </thead>\n",
       "  <tbody>\n",
       "    <tr>\n",
       "      <th>enron3/spam/2214.2005-01-03.BG.spam.txt</th>\n",
       "      <td>spam</td>\n",
       "      <td>Subject: online pharmac $ y with easy to use s...</td>\n",
       "    </tr>\n",
       "    <tr>\n",
       "      <th>enron3/spam/5357.2005-07-16.BG.spam.txt</th>\n",
       "      <td>spam</td>\n",
       "      <td>Subject: f / r / e / e cable tv\\n\\nf / r / e /...</td>\n",
       "    </tr>\n",
       "    <tr>\n",
       "      <th>enron3/ham/3212.2001-10-19.kitchen.ham.txt</th>\n",
       "      <td>ham</td>\n",
       "      <td>Subject: fw : middle market group\\n\\nfyi\\n\\nch...</td>\n",
       "    </tr>\n",
       "    <tr>\n",
       "      <th>enron3/ham/2729.2001-09-26.kitchen.ham.txt</th>\n",
       "      <td>ham</td>\n",
       "      <td>Subject: re : fyi on espeak\\n\\ni have read the...</td>\n",
       "    </tr>\n",
       "    <tr>\n",
       "      <th>enron3/ham/5351.2002-01-30.kitchen.ham.txt</th>\n",
       "      <td>ham</td>\n",
       "      <td>Subject: revised - operational restart sub - c...</td>\n",
       "    </tr>\n",
       "  </tbody>\n",
       "</table>\n",
       "</div>"
      ],
      "text/plain": [
       "                                           class  \\\n",
       "enron3/spam/2214.2005-01-03.BG.spam.txt     spam   \n",
       "enron3/spam/5357.2005-07-16.BG.spam.txt     spam   \n",
       "enron3/ham/3212.2001-10-19.kitchen.ham.txt   ham   \n",
       "enron3/ham/2729.2001-09-26.kitchen.ham.txt   ham   \n",
       "enron3/ham/5351.2002-01-30.kitchen.ham.txt   ham   \n",
       "\n",
       "                                                                                         text  \n",
       "enron3/spam/2214.2005-01-03.BG.spam.txt     Subject: online pharmac $ y with easy to use s...  \n",
       "enron3/spam/5357.2005-07-16.BG.spam.txt     Subject: f / r / e / e cable tv\\n\\nf / r / e /...  \n",
       "enron3/ham/3212.2001-10-19.kitchen.ham.txt  Subject: fw : middle market group\\n\\nfyi\\n\\nch...  \n",
       "enron3/ham/2729.2001-09-26.kitchen.ham.txt  Subject: re : fyi on espeak\\n\\ni have read the...  \n",
       "enron3/ham/5351.2002-01-30.kitchen.ham.txt  Subject: revised - operational restart sub - c...  "
      ]
     },
     "execution_count": 7,
     "metadata": {},
     "output_type": "execute_result"
    }
   ],
   "source": [
    "data.head()"
   ]
  },
  {
   "cell_type": "code",
   "execution_count": 23,
   "metadata": {
    "scrolled": true
   },
   "outputs": [
    {
     "data": {
      "text/plain": [
       "'Subject: re : drift\\n\\nlouise - current status on drift expense allocations . . . . we have reviewed the $ 11 . 8 million in question and that amount is correct given the methodology being used by gary to allocate costs . when gary is back in the office on thursday , i will go through his allocations with him to determine if we need to change that methodology and thus change the allocation percentages . i will let you know the outcome of that meeting .\\n\\nalso , keep in mind that the $ 11 . 8 million represents a plan amount . actuals should be much less since we are currently well under plan headcount amounts and not all plan expenses have been made . let me know if you have any questions - i will keep you updated .\\n\\nregards ,\\n\\nbrent\\n\\n- - - - - original message - - - - -\\n\\nfrom : kitchen , louise\\n\\nsent : wednesday , march 21 , 2001 6 : 08 pm\\n\\nto : price , brent a . ; killen , faith\\n\\ncc : mcconnell , mike\\n\\nsubject : drift\\n\\nbrent ,\\n\\nmike and i have discussed the drift plan and clearly there was an allocation issue somewhere along the line . please let us have our new numbers .\\n\\nthanks\\n\\nlouise'"
      ]
     },
     "execution_count": 23,
     "metadata": {},
     "output_type": "execute_result"
    }
   ],
   "source": [
    "X_train[0]"
   ]
  },
  {
   "cell_type": "code",
   "execution_count": 39,
   "metadata": {},
   "outputs": [],
   "source": [
    "tf_mod1 = TfidfVectorizer().fit(X_train)\n",
    "\n",
    "allocation_matrix = tf_mod1.transform(['there was an allocation issue somewhere along the line'])"
   ]
  },
  {
   "cell_type": "code",
   "execution_count": 41,
   "metadata": {},
   "outputs": [
    {
     "data": {
      "text/plain": [
       "(1, 48309)"
      ]
     },
     "execution_count": 41,
     "metadata": {},
     "output_type": "execute_result"
    }
   ],
   "source": [
    "allocation_matrix.shape"
   ]
  },
  {
   "cell_type": "code",
   "execution_count": 40,
   "metadata": {},
   "outputs": [
    {
     "name": "stdout",
     "output_type": "stream",
     "text": [
      "  (0, 46635)\t0.21436795952281673\n",
      "  (0, 43359)\t0.22619037705149772\n",
      "  (0, 43301)\t0.10476406858355838\n",
      "  (0, 40739)\t0.5165627348819741\n",
      "  (0, 27076)\t0.33033331689133716\n",
      "  (0, 24814)\t0.3027199009612732\n",
      "  (0, 5031)\t0.19385141438744408\n",
      "  (0, 4736)\t0.38189319036333\n",
      "  (0, 4686)\t0.4908069923422742\n"
     ]
    }
   ],
   "source": [
    "print(allocation_matrix[:,:])"
   ]
  },
  {
   "cell_type": "code",
   "execution_count": 9,
   "metadata": {
    "scrolled": true
   },
   "outputs": [
    {
     "data": {
      "text/html": [
       "<div>\n",
       "<style scoped>\n",
       "    .dataframe tbody tr th:only-of-type {\n",
       "        vertical-align: middle;\n",
       "    }\n",
       "\n",
       "    .dataframe tbody tr th {\n",
       "        vertical-align: top;\n",
       "    }\n",
       "\n",
       "    .dataframe thead th {\n",
       "        text-align: right;\n",
       "    }\n",
       "</style>\n",
       "<table border=\"1\" class=\"dataframe\">\n",
       "  <thead>\n",
       "    <tr style=\"text-align: right;\">\n",
       "      <th></th>\n",
       "      <th>class</th>\n",
       "      <th>text</th>\n",
       "    </tr>\n",
       "  </thead>\n",
       "  <tbody>\n",
       "    <tr>\n",
       "      <th>count</th>\n",
       "      <td>5512</td>\n",
       "      <td>5512</td>\n",
       "    </tr>\n",
       "    <tr>\n",
       "      <th>unique</th>\n",
       "      <td>2</td>\n",
       "      <td>5274</td>\n",
       "    </tr>\n",
       "    <tr>\n",
       "      <th>top</th>\n",
       "      <td>ham</td>\n",
       "      <td>Subject: enron mentions\\n\\nusa : wrapup 1 - cr...</td>\n",
       "    </tr>\n",
       "    <tr>\n",
       "      <th>freq</th>\n",
       "      <td>4012</td>\n",
       "      <td>3</td>\n",
       "    </tr>\n",
       "  </tbody>\n",
       "</table>\n",
       "</div>"
      ],
      "text/plain": [
       "       class                                               text\n",
       "count   5512                                               5512\n",
       "unique     2                                               5274\n",
       "top      ham  Subject: enron mentions\\n\\nusa : wrapup 1 - cr...\n",
       "freq    4012                                                  3"
      ]
     },
     "execution_count": 9,
     "metadata": {},
     "output_type": "execute_result"
    }
   ],
   "source": [
    "data.describe()"
   ]
  },
  {
   "cell_type": "code",
   "execution_count": null,
   "metadata": {
    "collapsed": true
   },
   "outputs": [],
   "source": []
  },
  {
   "cell_type": "code",
   "execution_count": 20,
   "metadata": {},
   "outputs": [],
   "source": [
    "from sklearn.pipeline import Pipeline\n",
    "from sklearn.naive_bayes import MultinomialNB, ComplementNB\n",
    "from sklearn.linear_model import LogisticRegression\n",
    "from sklearn.feature_extraction.text import CountVectorizer, TfidfVectorizer\n",
    "pipeline = Pipeline([\n",
    "    ('counts', CountVectorizer(ngram_range=(1,2))),\n",
    "    ('nb', MultinomialNB())\n",
    "])\n",
    "\n",
    "pipeline1 = Pipeline([\n",
    "    ('tfid', TfidfVectorizer()),\n",
    "    ('lr', LogisticRegression())\n",
    "])\n",
    "\n",
    "pipeline2 = Pipeline([\n",
    "    ('counts', CountVectorizer(ngram_range=(1,2))),\n",
    "    ('cnb', ComplementNB())\n",
    "])\n",
    "\n",
    "pipeline3 = Pipeline([\n",
    "    ('tfidf', TfidfVectorizer()),\n",
    "    ('nb', MultinomialNB())\n",
    "    \n",
    "])\n",
    "\n",
    "pipeline4 = Pipeline([\n",
    "    ('tfidf', TfidfVectorizer()),\n",
    "    ('cnb', ComplementNB())\n",
    "    \n",
    "])"
   ]
  },
  {
   "cell_type": "code",
   "execution_count": 12,
   "metadata": {
    "collapsed": true
   },
   "outputs": [],
   "source": [
    "from sklearn.model_selection import train_test_split\n",
    "\n",
    "X_train, X_test, y_train, y_test = train_test_split(data['text'], data['class'],test_size=.20)"
   ]
  },
  {
   "cell_type": "code",
   "execution_count": 13,
   "metadata": {},
   "outputs": [
    {
     "name": "stderr",
     "output_type": "stream",
     "text": [
      "/export/home/a625533/.local/lib/python3.6/site-packages/sklearn/linear_model/logistic.py:433: FutureWarning: Default solver will be changed to 'lbfgs' in 0.22. Specify a solver to silence this warning.\n",
      "  FutureWarning)\n"
     ]
    },
    {
     "data": {
      "text/plain": [
       "Pipeline(memory=None,\n",
       "     steps=[('counts', CountVectorizer(analyzer='word', binary=False, decode_error='strict',\n",
       "        dtype=<class 'numpy.int64'>, encoding='utf-8', input='content',\n",
       "        lowercase=True, max_df=1.0, max_features=None, min_df=1,\n",
       "        ngram_range=(1, 2), preprocessor=None, stop_words=None,\n",
       "        strip_accents=None, token_pattern='(?u)\\\\b\\\\w\\\\w+\\\\b',\n",
       "        tokenizer=None, vocabulary=None)), ('cnb', ComplementNB(alpha=1.0, class_prior=None, fit_prior=True, norm=False))])"
      ]
     },
     "execution_count": 13,
     "metadata": {},
     "output_type": "execute_result"
    }
   ],
   "source": [
    "\n",
    "pipeline.fit(X_train, y_train)\n",
    "\n",
    "pipeline1.fit(X_train, y_train)\n",
    "\n",
    "pipeline2.fit(X_train, y_train)"
   ]
  },
  {
   "cell_type": "code",
   "execution_count": 14,
   "metadata": {},
   "outputs": [
    {
     "name": "stdout",
     "output_type": "stream",
     "text": [
      "              precision    recall  f1-score   support\n",
      "\n",
      "         ham       0.97      1.00      0.99       823\n",
      "        spam       1.00      0.91      0.95       280\n",
      "\n",
      "   micro avg       0.98      0.98      0.98      1103\n",
      "   macro avg       0.98      0.96      0.97      1103\n",
      "weighted avg       0.98      0.98      0.98      1103\n",
      "\n"
     ]
    }
   ],
   "source": [
    "from sklearn.metrics import classification_report, confusion_matrix\n",
    "\n",
    "print(classification_report(y_test, pipeline.predict(X_test)))\n",
    "\n"
   ]
  },
  {
   "cell_type": "code",
   "execution_count": 15,
   "metadata": {},
   "outputs": [
    {
     "name": "stdout",
     "output_type": "stream",
     "text": [
      "              precision    recall  f1-score   support\n",
      "\n",
      "         ham       0.98      1.00      0.99       823\n",
      "        spam       0.99      0.95      0.97       280\n",
      "\n",
      "   micro avg       0.98      0.98      0.98      1103\n",
      "   macro avg       0.99      0.97      0.98      1103\n",
      "weighted avg       0.98      0.98      0.98      1103\n",
      "\n"
     ]
    }
   ],
   "source": [
    "print(classification_report(y_test, pipeline1.predict(X_test)))"
   ]
  },
  {
   "cell_type": "code",
   "execution_count": 16,
   "metadata": {},
   "outputs": [
    {
     "name": "stdout",
     "output_type": "stream",
     "text": [
      "              precision    recall  f1-score   support\n",
      "\n",
      "         ham       0.97      1.00      0.99       823\n",
      "        spam       1.00      0.91      0.95       280\n",
      "\n",
      "   micro avg       0.98      0.98      0.98      1103\n",
      "   macro avg       0.98      0.96      0.97      1103\n",
      "weighted avg       0.98      0.98      0.98      1103\n",
      "\n"
     ]
    }
   ],
   "source": [
    "print(classification_report(y_test, pipeline2.predict(X_test)))"
   ]
  },
  {
   "cell_type": "code",
   "execution_count": 18,
   "metadata": {},
   "outputs": [
    {
     "data": {
      "text/plain": [
       "Pipeline(memory=None,\n",
       "     steps=[('tfidf', TfidfVectorizer(analyzer='word', binary=False, decode_error='strict',\n",
       "        dtype=<class 'numpy.float64'>, encoding='utf-8', input='content',\n",
       "        lowercase=True, max_df=1.0, max_features=None, min_df=1,\n",
       "        ngram_range=(1, 1), norm='l2', preprocessor=None, smooth_idf=True,...True,\n",
       "        vocabulary=None)), ('nb', MultinomialNB(alpha=1.0, class_prior=None, fit_prior=True))])"
      ]
     },
     "execution_count": 18,
     "metadata": {},
     "output_type": "execute_result"
    }
   ],
   "source": [
    "pipeline3.fit(X_train, y_train)"
   ]
  },
  {
   "cell_type": "code",
   "execution_count": 19,
   "metadata": {},
   "outputs": [
    {
     "name": "stdout",
     "output_type": "stream",
     "text": [
      "              precision    recall  f1-score   support\n",
      "\n",
      "         ham       0.85      1.00      0.92       823\n",
      "        spam       1.00      0.47      0.64       280\n",
      "\n",
      "   micro avg       0.87      0.87      0.87      1103\n",
      "   macro avg       0.92      0.74      0.78      1103\n",
      "weighted avg       0.89      0.87      0.85      1103\n",
      "\n"
     ]
    }
   ],
   "source": [
    "print(classification_report(y_test, pipeline3.predict(X_test)))"
   ]
  },
  {
   "cell_type": "code",
   "execution_count": 21,
   "metadata": {},
   "outputs": [
    {
     "data": {
      "text/plain": [
       "Pipeline(memory=None,\n",
       "     steps=[('tfidf', TfidfVectorizer(analyzer='word', binary=False, decode_error='strict',\n",
       "        dtype=<class 'numpy.float64'>, encoding='utf-8', input='content',\n",
       "        lowercase=True, max_df=1.0, max_features=None, min_df=1,\n",
       "        ngram_range=(1, 1), norm='l2', preprocessor=None, smooth_idf=True,...  vocabulary=None)), ('cnb', ComplementNB(alpha=1.0, class_prior=None, fit_prior=True, norm=False))])"
      ]
     },
     "execution_count": 21,
     "metadata": {},
     "output_type": "execute_result"
    }
   ],
   "source": [
    "pipeline4.fit(X_train, y_train)"
   ]
  },
  {
   "cell_type": "code",
   "execution_count": 22,
   "metadata": {},
   "outputs": [
    {
     "name": "stdout",
     "output_type": "stream",
     "text": [
      "              precision    recall  f1-score   support\n",
      "\n",
      "         ham       0.89      1.00      0.94       823\n",
      "        spam       1.00      0.62      0.77       280\n",
      "\n",
      "   micro avg       0.90      0.90      0.90      1103\n",
      "   macro avg       0.94      0.81      0.85      1103\n",
      "weighted avg       0.91      0.90      0.90      1103\n",
      "\n"
     ]
    }
   ],
   "source": [
    "print(classification_report(y_test, pipeline4.predict(X_test)))"
   ]
  },
  {
   "cell_type": "code",
   "execution_count": null,
   "metadata": {
    "collapsed": true
   },
   "outputs": [],
   "source": []
  }
 ],
 "metadata": {
  "kernelspec": {
   "display_name": "Python 3",
   "language": "python",
   "name": "python3"
  },
  "language_info": {
   "codemirror_mode": {
    "name": "ipython",
    "version": 3
   },
   "file_extension": ".py",
   "mimetype": "text/x-python",
   "name": "python",
   "nbconvert_exporter": "python",
   "pygments_lexer": "ipython3",
   "version": "3.6.3"
  }
 },
 "nbformat": 4,
 "nbformat_minor": 2
}
