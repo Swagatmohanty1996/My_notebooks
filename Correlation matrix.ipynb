{
 "cells": [
  {
   "cell_type": "code",
   "execution_count": 2,
   "metadata": {},
   "outputs": [
    {
     "data": {
      "image/png": "[encoded data removed]",
      "text/plain": [
       "<matplotlib.figure.Figure at 0x7f249581ca58>"
      ]
     },
     "metadata": {},
     "output_type": "display_data"
    }
   ],
   "source": [
    "import numpy as np\n",
    "import matplotlib.pyplot as plt\n",
    "import seaborn as sns\n",
    "import pandas as pd\n",
    "\n",
    "# create some random data; replace that by your actual dataset\n",
    "data = pd.DataFrame(np.random.rand(2, 2), columns=['A', 'B'], index = ['A','B'])\n",
    "\n",
    "# plot heatmap\n",
    "ax = sns.heatmap(data.T)\n",
    "\n",
    "# turn the axis label\n",
    "for item in ax.get_yticklabels():\n",
    "    item.set_rotation(0)\n",
    "\n",
    "for item in ax.get_xticklabels():\n",
    "    item.set_rotation(90)\n",
    "\n",
    "# save figure\n",
    "plt.savefig('seabornPandas.png', dpi=100)\n",
    "plt.show()"
   ]
  },
  {
   "cell_type": "code",
   "execution_count": 3,
   "metadata": {
    "scrolled": true
   },
   "outputs": [
    {
     "data": {
      "text/html": [
       "<div>\n",
       "<style scoped>\n",
       "    .dataframe tbody tr th:only-of-type {\n",
       "        vertical-align: middle;\n",
       "    }\n",
       "\n",
       "    .dataframe tbody tr th {\n",
       "        vertical-align: top;\n",
       "    }\n",
       "\n",
       "    .dataframe thead th {\n",
       "        text-align: right;\n",
       "    }\n",
       "</style>\n",
       "<table border=\"1\" class=\"dataframe\">\n",
       "  <thead>\n",
       "    <tr style=\"text-align: right;\">\n",
       "      <th></th>\n",
       "      <th>A</th>\n",
       "      <th>B</th>\n",
       "    </tr>\n",
       "  </thead>\n",
       "  <tbody>\n",
       "    <tr>\n",
       "      <th>A</th>\n",
       "      <td>0.826151</td>\n",
       "      <td>0.461136</td>\n",
       "    </tr>\n",
       "    <tr>\n",
       "      <th>B</th>\n",
       "      <td>0.961212</td>\n",
       "      <td>0.277575</td>\n",
       "    </tr>\n",
       "  </tbody>\n",
       "</table>\n",
       "</div>"
      ],
      "text/plain": [
       "          A         B\n",
       "A  0.826151  0.461136\n",
       "B  0.961212  0.277575"
      ]
     },
     "execution_count": 3,
     "metadata": {},
     "output_type": "execute_result"
    }
   ],
   "source": [
    "data"
   ]
  },
  {
   "cell_type": "code",
   "execution_count": 1,
   "metadata": {
    "collapsed": true
   },
   "outputs": [],
   "source": [
    "#Gives us mutual information matrix along with heatmap for all categorical Variables in your dataset"
   ]
  },
  {
   "cell_type": "raw",
   "metadata": {},
   "source": [
    "#import required libraries\n",
    "import seaborn as sns\n",
    "from sklearn.metrics.cluster import normalized_mutual_info_score\n",
    "\n",
    "columns = cols                                   ###columns for which we want to get the mutual information\n",
    "corr = pd.DataFrame(index=columns, columns=columns)\n",
    "\n",
    "for i in range(0,len(columns)):\n",
    "        for j in range(i,len(columns)):\n",
    "            if i == j:\n",
    "                corr[columns[i]][columns[j]] = 1.0\n",
    "            else:\n",
    "                if columns[i] in columns:\n",
    "                    if columns[j] in columns:\n",
    "                            corr[columns[j]][columns[i]] = normalized_mutual_info_score(fat_data_FMTC[columns[i]],fat_data_FMTC[columns[j]])\n",
    "                           corr[columns[i]][columns[j]] = normalized_mutual_info_score(fat_data_FMTC[columns[j]],fat_data_FMTC[columns[i]])\n",
    "\n",
    "corr\n",
    "\n",
    "# plot heatmap\n",
    "corr = corr.astype('float')\n",
    "ax = sns.heatmap(corr.T)\n",
    "\n",
    "# turn the axis label\n",
    "for item in ax.get_yticklabels():\n",
    "    item.set_rotation(0)\n",
    "\n",
    "for item in ax.get_xticklabels():\n",
    "    item.set_rotation(90)\n",
    "\n",
    "# visualize heat map\n",
    "plt.show()\n",
    "\n"
   ]
  },
  {
   "cell_type": "code",
   "execution_count": null,
   "metadata": {
    "collapsed": true
   },
   "outputs": [],
   "source": []
  }
 ],
 "metadata": {
  "kernelspec": {
   "display_name": "Python 3",
   "language": "python",
   "name": "python3"
  },
  "language_info": {
   "codemirror_mode": {
    "name": "ipython",
    "version": 3
   },
   "file_extension": ".py",
   "mimetype": "text/x-python",
   "name": "python",
   "nbconvert_exporter": "python",
   "pygments_lexer": "ipython3",
   "version": "3.6.3"
  }
 },
 "nbformat": 4,
 "nbformat_minor": 2
}
